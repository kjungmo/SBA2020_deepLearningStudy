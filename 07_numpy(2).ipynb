{
 "cells": [
  {
   "cell_type": "markdown",
   "metadata": {},
   "source": [
    "###  라이브러리 numpy 행렬 곱(dot product)\n",
    "\n",
    "* 행렬 곱 dot product\n",
    "    - A 행렬과 B 행렬의 행렬곱 (dot product)는 np.dot(A,B)으로 나타내며, **행렬 A의 열 벡터와 B 행렬의 행 벡터가 같아야 한다.** 만약 같지 않다면 reshape 또는 전치행렬(transpose)등을 사용하여 형 변환을 한 후에 행렬 곱을 실행해야 한다\n",
    "    \n",
    "    "
   ]
  },
  {
   "cell_type": "code",
   "execution_count": 7,
   "metadata": {},
   "outputs": [
    {
     "name": "stdout",
     "output_type": "stream",
     "text": [
      "A.shape == (2, 3) B.shape == (3, 2)\n",
      "C.shape == (2, 2)\n",
      "[[-22 -28]\n",
      " [-49 -64]]\n"
     ]
    }
   ],
   "source": [
    "import numpy as np\n",
    "\n",
    "A = np.array([[1,2,3], [4,5,6]])  # 2X3 행렬\n",
    "B = np.array([[-1,-2],[-3,-4],[-5,-6]])  # 3X2 행렬\n",
    "\n",
    "# (2X3) dot product (3X2) == (2X2) 행렬\n",
    "C = np.dot(A,B) # 행렬 곱 수행\n",
    "\n",
    "# matrix A, B 형상 출력 = > shape\n",
    "print(\"A.shape ==\", A.shape, \"B.shape ==\", B.shape)\n",
    "print(\"C.shape ==\", C.shape)\n",
    "print(C)\n"
   ]
  },
  {
   "cell_type": "markdown",
   "metadata": {},
   "source": [
    "* 행렬 곱 (dot product)\n",
    "    - 행렬 곱은, 행렬의 원소 개수가 같아야만 계산할 수 있는 사칙연산의 한계를 벗어나\n",
    "        - 1) 행렬곱 조건을 만족하는 다양한 크기의 행렬을 연속으로 만들고\n",
    "        - 2) 행렬 곱을 연속으로 계산하면서\n",
    "        - 3) 결과값을 만들 수 있기 때문에 머신러닝과 이미지 프로세싱 분야에서 자주 사용됨\n",
    "    - [예] 입력 행렬 형상이 64 X 64 이고, 결과 행렬 형상이 64 X 10이라면, 중간에 dot product를 만족시키는 어던 형상의 행렬이라도 가질 수 있음. \n",
    "     ![image](https://user-images.githubusercontent.com/63198352/89116725-72a72a00-d4d2-11ea-8b0d-d18e929223d4.png)\n",
    "    - 행렬 곱을 사용하지 않고 산술연산만 가능하다면, 입력 행렬의 64 X 64 크기를 가지는 특성 값 만을 사용해야 하기 때문에 다양한 특성을 갖는 필터 개발이 불가능하다.\n",
    "    \n",
    "   "
   ]
  },
  {
   "cell_type": "markdown",
   "metadata": {},
   "source": [
    "###  라이브러리 numpy broadcast\n",
    "\n",
    "* 행렬의 사칙연산은 기본적으로 두 개의 행렬 크기가 같은 경우에만 수행할 수 있음. 그러나 numpy 에서는 크기가 다른 두 행렬간에도 사칙연산( +, -, * /)을 할 수 있는데 이를 브로드캐스트(braodcast)라고 지칭함\n",
    "    - 차원이 작은 쪽이 큰 쪽의 행 단위로 반복적으로 크기를 맞춘 후에 계산\n",
    "    \n",
    "    ![image](https://user-images.githubusercontent.com/63198352/89116713-573c1f00-d4d2-11ea-9e12-d4e8bcff9890.png)\n",
    "\n",
    "## 주의 ::  오로지 행렬의 사칙연산에만 적용 가능함. dot product (행렬 곱)에는 적용 안되는 사항이다"
   ]
  },
  {
   "cell_type": "code",
   "execution_count": 9,
   "metadata": {},
   "outputs": [
    {
     "name": "stdout",
     "output_type": "stream",
     "text": [
      "[[6 7]\n",
      " [8 9]]\n",
      "[[5 7]\n",
      " [7 9]]\n"
     ]
    }
   ],
   "source": [
    "A = np.array([[1,2], [3,4]])\n",
    "b = 5  # scala인 경우라고 한다.\n",
    "\n",
    "print(A+b)\n",
    "\n",
    "C = np.array([[1,2], [3,4]])\n",
    "D = np.array([4,5])\n",
    "\n",
    "print( C + D )"
   ]
  },
  {
   "cell_type": "markdown",
   "metadata": {},
   "source": [
    "###  라이브러리 numpy 전치행렬(transpose)\n",
    "\n",
    "* 전치행렬(transpose)\n",
    "    - 어떤 행렬의 전치행렬은 원본 행렬의 열은 행으로, 행은 열로 바꾼 것으로서, 원본 행렬을 A라고 하면 전치 행렬은 At로 나타냄\n",
    "    - 즉 1행은 1열로, 2행을 2열로, 3행은 3열로 바꾼 행렬을 의미한다. "
   ]
  },
  {
   "cell_type": "code",
   "execution_count": 10,
   "metadata": {},
   "outputs": [
    {
     "name": "stdout",
     "output_type": "stream",
     "text": [
      "A.shape == (3, 2) B.shape==  (2, 3)\n",
      "[[1 2]\n",
      " [3 4]\n",
      " [5 6]]\n",
      "[[1 3 5]\n",
      " [2 4 6]]\n"
     ]
    }
   ],
   "source": [
    "A = np.array([[1,2], [3,4], [5,6]]) #3X2 행렬\n",
    "B = A.T #A의 전치행렬, 2X3행렬\n",
    "\n",
    "print(\"A.shape ==\", A.shape, \"B.shape== \", B.shape)\n",
    "print(A)\n",
    "print(B)"
   ]
  },
  {
   "cell_type": "code",
   "execution_count": 13,
   "metadata": {},
   "outputs": [
    {
     "name": "stdout",
     "output_type": "stream",
     "text": [
      "C.shape == (5,) D.shape == (5,)\n",
      "E.shape == (1, 5) F.shape==  (5, 1)\n",
      "[[1]\n",
      " [2]\n",
      " [3]\n",
      " [4]\n",
      " [5]]\n"
     ]
    }
   ],
   "source": [
    "# vector 전치행렬\n",
    "C = np.array([1,2,3,4,5]) # vector이지 , matrix가 아님\n",
    "D = C.T # C 는 vector이므로 transpose 안됨\n",
    "#  벡터는 행과 열을 구분하지 않는 1차원 행렬이기 때문에 전치행렬을 하더라도 열과 행을 구분할 수 없기 때문에 그대로 출력된다\n",
    "\n",
    "E = C.reshape(1, 5)  # 1X5 matrix\n",
    "F = E.T # E의 전치행렬\n",
    "\n",
    "print(\"C.shape ==\", C.shape, \"D.shape ==\", D.shape)\n",
    "print(\"E.shape ==\", E.shape, \"F.shape== \", F.shape)\n",
    "print(F)"
   ]
  },
  {
   "cell_type": "code",
   "execution_count": null,
   "metadata": {},
   "outputs": [],
   "source": []
  }
 ],
 "metadata": {
  "kernelspec": {
   "display_name": "Python 3",
   "language": "python",
   "name": "python3"
  },
  "language_info": {
   "codemirror_mode": {
    "name": "ipython",
    "version": 3
   },
   "file_extension": ".py",
   "mimetype": "text/x-python",
   "name": "python",
   "nbconvert_exporter": "python",
   "pygments_lexer": "ipython3",
   "version": "3.8.3"
  }
 },
 "nbformat": 4,
 "nbformat_minor": 4
}
