{
 "cells": [
  {
   "cell_type": "markdown",
   "metadata": {},
   "source": [
    "### 미분 derivative\n",
    "\n",
    "* 미분\n",
    "    - 순간 변화율\n",
    "    - 한 점에서 접점의 기울기\n",
    "\n",
    "* 미분을 왜 하는가? 미분으로 얻을 수 있는 인사이트?\n",
    "\n",
    "\n",
    "![image](https://user-images.githubusercontent.com/63198352/89120559-4ac7be80-d4f2-11ea-9ddb-b53e4b758689.png)\n",
    "\n",
    "\n"
   ]
  },
  {
   "cell_type": "markdown",
   "metadata": {},
   "source": [
    "![image](https://user-images.githubusercontent.com/63198352/89120762-c5450e00-d4f3-11ea-94b4-583352192f4a.png)\n",
    "\n",
    "* 미분이 0 이라는 의미는 입력 x가 미세하게 변할 때 함수 변화는 0, 즉 함수는 어떤 변화도 없다는 것을 의미\n"
   ]
  },
  {
   "cell_type": "markdown",
   "metadata": {},
   "source": [
    " ![image](https://user-images.githubusercontent.com/63198352/89120896-cf1b4100-d4f4-11ea-8697-cbf4d63b38e6.png)\n",
    "\n",
    "* 편미분은 입력변수가 하나 이상인 다변수 함수에서, 미분하고자 하는 변수 하나를 제외한 나머지 변수들은 상수로 취급하고, 해당 변수를 미분하는 것."
   ]
  },
  {
   "cell_type": "markdown",
   "metadata": {},
   "source": [
    "### 연쇄법칙 - chain rule\n",
    "* 합성함수란 여러 함수로 구성된 함수로서, 이러한 합성함수를 미분하려면 '합성함수를 구성하는 각 함수의 미분의 곱'으로 나타내는 chain rule(연쇄법칙) 이용\n",
    "\n",
    "* 편미분과 chain rule은 머신러닝에서 가중치를 업데이트 하고 오차역전파에서 중요하게 쓰인다\n",
    "![image](https://user-images.githubusercontent.com/63198352/89121680-d2fe9180-d4fb-11ea-89af-30bd50918c64.png)\n"
   ]
  },
  {
   "cell_type": "markdown",
   "metadata": {},
   "source": [
    "### 파이썬 수치 미분 코드 "
   ]
  },
  {
   "cell_type": "markdown",
   "metadata": {},
   "source": [
    " ![image](https://user-images.githubusercontent.com/63198352/89121920-2a9dfc80-d4fe-11ea-84fb-e00005ea6287.png)"
   ]
  },
  {
   "cell_type": "markdown",
   "metadata": {},
   "source": [
    "![image](https://user-images.githubusercontent.com/63198352/89121977-89fc0c80-d4fe-11ea-9e1b-9acff93bf20a.png)"
   ]
  },
  {
   "cell_type": "markdown",
   "metadata": {},
   "source": [
    " ![image](https://user-images.githubusercontent.com/63198352/89122389-aa799600-d501-11ea-8feb-301848bf0d02.png)"
   ]
  },
  {
   "cell_type": "markdown",
   "metadata": {},
   "source": [
    "![image](https://user-images.githubusercontent.com/63198352/89122426-f88e9980-d501-11ea-95ee-a99460b7eb0e.png)"
   ]
  },
  {
   "cell_type": "markdown",
   "metadata": {},
   "source": [
    " ![image](https://user-images.githubusercontent.com/63198352/89122519-a7cb7080-d502-11ea-9f97-c2c901bde0f5.png)\n",
    " "
   ]
  },
  {
   "cell_type": "code",
   "execution_count": 3,
   "metadata": {},
   "outputs": [],
   "source": [
    "import numpy as np\n",
    "\n",
    "def numerical_derivative(f,x):\n",
    "    delta_x = 1e-4\n",
    "    grad = np.zeros_like(x)\n",
    "    \n",
    "    it = np.nditer(x, flags=['multi_index'], op_flags=['readwrite'])\n",
    "    \n",
    "    while not it.finished:\n",
    "        idx = it.multi_index\n",
    "        \n",
    "        tmp_val = x[idx]\n",
    "        x[idx] = float(tmp_val) + delta_x\n",
    "        fx1 = f(x)\n",
    "        \n",
    "        x[idx] = tmp_val - delta_x\n",
    "        fx2 = f(x)\n",
    "        grad[idx] = (fx1 - fx2) / (2*delta_x)\n",
    "        \n",
    "        x[idx] = tmp_val\n",
    "        it.iternext()\n",
    "    \n",
    "    return grad"
   ]
  },
  {
   "cell_type": "markdown",
   "metadata": {},
   "source": [
    "### ![image](https://user-images.githubusercontent.com/63198352/89123050-612c4500-d507-11ea-846a-cf038317c559.png)\n"
   ]
  },
  {
   "cell_type": "code",
   "execution_count": 8,
   "metadata": {},
   "outputs": [
    {
     "name": "stdout",
     "output_type": "stream",
     "text": [
      "debug 1. initial input variable = [3.]\n",
      "debug 2. initial grad = [0.]\n",
      "========================================\n",
      "debug 3. idx =  (0,) , x[idx] =  3.0\n",
      "debug 4. grad[idx] =  6.000000000012662\n",
      "debug 5. grad = [6.]\n",
      "=======================================\n"
     ]
    },
    {
     "data": {
      "text/plain": [
       "array([6.])"
      ]
     },
     "execution_count": 8,
     "metadata": {},
     "output_type": "execute_result"
    }
   ],
   "source": [
    "import numpy as np\n",
    "\n",
    "def numerical_derivative(f,x):\n",
    "    delta_x = 1e-4\n",
    "    grad = np.zeros_like(x)\n",
    "    print(\"debug 1. initial input variable =\", x)  \n",
    "    # 함수의 모든 입력변수 값을 출력하고 있다.\n",
    "    print(\"debug 2. initial grad =\", grad)\n",
    "    # 모든 입력변수의 미분값을 저장하는 변수 grad를 0으로 초기화한 것을 보여줌\n",
    "    print(\"========================================\")\n",
    "    \n",
    "    it = np.nditer(x, flags=['multi_index'], op_flags=['readwrite'])\n",
    "    \n",
    "    while not it.finished:\n",
    "        idx = it.multi_index\n",
    "        \n",
    "        print(\"debug 3. idx = \", idx, \", x[idx] = \", x[idx])\n",
    "        # iterator가 가리키는 입력변수 값을 보여줌\n",
    "        tmp_val = x[idx]\n",
    "        x[idx] = float(tmp_val) + delta_x\n",
    "        fx1 = f(x)\n",
    "        \n",
    "        x[idx] = tmp_val - delta_x\n",
    "        fx2 = f(x)\n",
    "        grad[idx] = (fx1 - fx2) / (2*delta_x)\n",
    "        \n",
    "        print(\"debug 4. grad[idx] = \", grad[idx])\n",
    "        # 현재 입력변수에 계산된 미분값을 출력\n",
    "        print(\"debug 5. grad =\", grad)\n",
    "        # 계산된 모든 미분값을 가지고 있는 grad 변수의 내용을 출력\n",
    "        print(\"=======================================\")\n",
    "        \n",
    "        x[idx] = tmp_val\n",
    "        it.iternext()\n",
    "    \n",
    "    return grad\n",
    "\n",
    "def func1(input_obj):\n",
    "    \n",
    "    x = input_obj[0]\n",
    "    \n",
    "    return x**2\n",
    "\n",
    "numerical_derivative(func1, np.array([3.0]))"
   ]
  },
  {
   "cell_type": "markdown",
   "metadata": {},
   "source": [
    "### 2변수 함수  "
   ]
  },
  {
   "cell_type": "markdown",
   "metadata": {},
   "source": [
    "![image](https://user-images.githubusercontent.com/63198352/89123222-b9177b80-d508-11ea-809f-686251f27975.png)"
   ]
  },
  {
   "cell_type": "code",
   "execution_count": 7,
   "metadata": {},
   "outputs": [
    {
     "name": "stdout",
     "output_type": "stream",
     "text": [
      "debug 1. initial input variable = [1. 2.]\n",
      "debug 2. initial grad = [0. 0.]\n",
      "========================================\n",
      "debug 3. idx =  (0,) , x[idx] =  1.0\n",
      "debug 4. grad[idx] =  7.999999999990237\n",
      "debug 5. grad = [8. 0.]\n",
      "=======================================\n",
      "debug 3. idx =  (1,) , x[idx] =  2.0\n",
      "debug 4. grad[idx] =  15.000000010019221\n",
      "debug 5. grad = [ 8.         15.00000001]\n",
      "=======================================\n"
     ]
    },
    {
     "data": {
      "text/plain": [
       "array([ 8.        , 15.00000001])"
      ]
     },
     "execution_count": 7,
     "metadata": {},
     "output_type": "execute_result"
    }
   ],
   "source": [
    "import numpy as np\n",
    "\n",
    "def numerical_derivative(f,x):\n",
    "    delta_x = 1e-4\n",
    "    grad = np.zeros_like(x)\n",
    "    print(\"debug 1. initial input variable =\", x)  \n",
    "    # 함수의 모든 입력변수 값을 출력하고 있다.\n",
    "    print(\"debug 2. initial grad =\", grad)\n",
    "    # 모든 입력변수의 미분값을 저장하는 변수 grad를 0으로 초기화한 것을 보여줌\n",
    "    print(\"========================================\")\n",
    "    \n",
    "    it = np.nditer(x, flags=['multi_index'], op_flags=['readwrite'])\n",
    "    \n",
    "    while not it.finished:\n",
    "        idx = it.multi_index\n",
    "        \n",
    "        print(\"debug 3. idx = \", idx, \", x[idx] = \", x[idx])\n",
    "        # iterator가 가리키는 입력변수 값을 보여줌\n",
    "        tmp_val = x[idx]\n",
    "        x[idx] = float(tmp_val) + delta_x\n",
    "        fx1 = f(x)\n",
    "        \n",
    "        x[idx] = tmp_val - delta_x\n",
    "        fx2 = f(x)\n",
    "        grad[idx] = (fx1 - fx2) / (2*delta_x)\n",
    "        \n",
    "        print(\"debug 4. grad[idx] = \", grad[idx])\n",
    "        # 현재 입력변수에 계산된 미분값을 출력\n",
    "        print(\"debug 5. grad =\", grad)\n",
    "        # 계산된 모든 미분값을 가지고 있는 grad 변수의 내용을 출력\n",
    "        print(\"=======================================\")\n",
    "        \n",
    "        x[idx] = tmp_val\n",
    "        it.iternext()\n",
    "    \n",
    "    return grad\n",
    "\n",
    "def func1(input_obj):\n",
    "    \n",
    "    x = input_obj[0] # 첫번째 원소값\n",
    "    y = input_obj[1] # 두번째 원소 값\n",
    "    \n",
    "    return ( 2*x + 3*x*y + np.power(y,3))\n",
    "\n",
    "#(x, y) = (1.0, 2.0) 에서의 편미분 값\n",
    "input = np.array([1.0, 2.0])\n",
    "numerical_derivative(func1, input)"
   ]
  },
  {
   "cell_type": "markdown",
   "metadata": {},
   "source": [
    "###  4변수 함수"
   ]
  },
  {
   "cell_type": "markdown",
   "metadata": {},
   "source": [
    "### ![image](https://user-images.githubusercontent.com/63198352/89123251-f24feb80-d508-11ea-86a4-b4bccac8af00.png)\n"
   ]
  },
  {
   "cell_type": "code",
   "execution_count": 10,
   "metadata": {},
   "outputs": [
    {
     "name": "stdout",
     "output_type": "stream",
     "text": [
      "debug 1. initial input variable = [[1. 2.]\n",
      " [3. 4.]]\n",
      "debug 2. initial grad = [[0. 0.]\n",
      " [0. 0.]]\n",
      "========================================\n",
      "debug 3. idx =  (0, 0) , x[idx] =  1.0\n",
      "debug 4. grad[idx] =  5.000000000023874\n",
      "debug 5. grad = [[5. 0.]\n",
      " [0. 0.]]\n",
      "=======================================\n",
      "debug 3. idx =  (0, 1) , x[idx] =  2.0\n",
      "debug 4. grad[idx] =  13.00000000000523\n",
      "debug 5. grad = [[ 5. 13.]\n",
      " [ 0.  0.]]\n",
      "=======================================\n",
      "debug 3. idx =  (1, 0) , x[idx] =  3.0\n",
      "debug 4. grad[idx] =  32.00000000006753\n",
      "debug 5. grad = [[ 5. 13.]\n",
      " [32.  0.]]\n",
      "=======================================\n",
      "debug 3. idx =  (1, 1) , x[idx] =  4.0\n",
      "debug 4. grad[idx] =  15.000000000000568\n",
      "debug 5. grad = [[ 5. 13.]\n",
      " [32. 15.]]\n",
      "=======================================\n"
     ]
    },
    {
     "data": {
      "text/plain": [
       "array([[ 5., 13.],\n",
       "       [32., 15.]])"
      ]
     },
     "execution_count": 10,
     "metadata": {},
     "output_type": "execute_result"
    }
   ],
   "source": [
    "import numpy as np\n",
    "\n",
    "def numerical_derivative(f,x):\n",
    "    delta_x = 1e-4\n",
    "    grad = np.zeros_like(x)\n",
    "    print(\"debug 1. initial input variable =\", x)  \n",
    "    # 함수의 모든 입력변수 값을 출력하고 있다.\n",
    "    print(\"debug 2. initial grad =\", grad)\n",
    "    # 모든 입력변수의 미분값을 저장하는 변수 grad를 0으로 초기화한 것을 보여줌\n",
    "    print(\"========================================\")\n",
    "    \n",
    "    it = np.nditer(x, flags=['multi_index'], op_flags=['readwrite'])\n",
    "    \n",
    "    while not it.finished:\n",
    "        idx = it.multi_index\n",
    "        \n",
    "        print(\"debug 3. idx = \", idx, \", x[idx] = \", x[idx])\n",
    "        # iterator가 가리키는 입력변수 값을 보여줌\n",
    "        tmp_val = x[idx]\n",
    "        x[idx] = float(tmp_val) + delta_x\n",
    "        fx1 = f(x)\n",
    "        \n",
    "        x[idx] = tmp_val - delta_x\n",
    "        fx2 = f(x)\n",
    "        grad[idx] = (fx1 - fx2) / (2*delta_x)\n",
    "        \n",
    "        print(\"debug 4. grad[idx] = \", grad[idx])\n",
    "        # 현재 입력변수에 계산된 미분값을 출력\n",
    "        print(\"debug 5. grad =\", grad)\n",
    "        # 계산된 모든 미분값을 가지고 있는 grad 변수의 내용을 출력\n",
    "        print(\"=======================================\")\n",
    "        \n",
    "        x[idx] = tmp_val\n",
    "        it.iternext()\n",
    "    \n",
    "    return grad\n",
    "\n",
    "# 입력변수 4개인 함수\n",
    "# f(w,x,y,z) = wx + xyz + 3w + zy^2\n",
    "# input_obj 는 행렬\n",
    "\n",
    "def func1(input_obj):\n",
    "    \n",
    "    w = input_obj[0, 0] \n",
    "    x = input_obj[0 ,1]\n",
    "    y = input_obj[1 ,0]\n",
    "    z = input_obj[1 ,1]\n",
    "    \n",
    "    return ( w*x + x*y*z + 3*w + z*np.power(y,2))\n",
    "\n",
    "# 입력을 2X2 행렬로 구성함\n",
    "input = np.array([[1.0, 2.0], [3.0, 4.0]])\n",
    "numerical_derivative(func1, input)"
   ]
  },
  {
   "cell_type": "code",
   "execution_count": null,
   "metadata": {},
   "outputs": [],
   "source": []
  }
 ],
 "metadata": {
  "kernelspec": {
   "display_name": "Python 3",
   "language": "python",
   "name": "python3"
  },
  "language_info": {
   "codemirror_mode": {
    "name": "ipython",
    "version": 3
   },
   "file_extension": ".py",
   "mimetype": "text/x-python",
   "name": "python",
   "nbconvert_exporter": "python",
   "pygments_lexer": "ipython3",
   "version": "3.7.6"
  }
 },
 "nbformat": 4,
 "nbformat_minor": 4
}
