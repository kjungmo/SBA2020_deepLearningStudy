{
 "cells": [
  {
   "cell_type": "markdown",
   "metadata": {},
   "source": [
    "# Logistic Regression "
   ]
  },
  {
   "cell_type": "markdown",
   "metadata": {},
   "source": [
    "## Logistic Regression - Classification (I) "
   ]
  },
  {
   "cell_type": "markdown",
   "metadata": {},
   "source": [
    "## Classification\n",
    "\n",
    "* 분류 ( Classification)\n",
    "    - training data 특성과 관계 등을 파악한 후 , 미지의 입력 데이터(training data가 아닌)에 대해서 결과가 어떤 종류의 값으로 분류 될 수 있는지를 예측하는 것\n",
    "    - ex) 스팸문자 분류, 암 판별[악성종양(1) or 종양(0)]\n",
    "    \n",
    "    \n",
    "    \n",
    "\n",
    "\n",
    "![image](https://user-images.githubusercontent.com/63198352/89435328-af4b7d80-d77f-11ea-9ffe-45615e8ac4c6.png)\n",
    "\n",
    "![image](https://user-images.githubusercontent.com/63198352/89435564-fcc7ea80-d77f-11ea-9af7-5e3f9912304d.png)\n",
    "\n",
    "\n",
    "\n"
   ]
  },
  {
   "cell_type": "markdown",
   "metadata": {},
   "source": [
    "## classification  - sigmoid function\n",
    "\n",
    "* 출력 값 y가 1 또는 0 만을 가져야만 하는 분류(classification) 시스템에서, 함수 값으로 0 ~ 1 사이의 값을 가지는 sigmoid 함수를 사용할 수 있다\n",
    "    - 즉 linear regression 출력 Wx + b가 어떤 값을 갖더라도, 출력 함수로 sigmoid를 사용해서\n",
    "    - 1) sigmoid 계산 값이 0.5 보다 크면 결과로 1이 나올 확률이 높다는 것이기 때문에 출력 값 y는 1을 정의하고\n",
    "    - 2) sigmoid 계산 값이 0.5 미만이면 결과로 0이 나올 확률이 높다는 것이므로 출력값 y는 0으로정의하여 classification 시스템을 구현할 수 있다. \n",
    "    - sigmoid 함수의 실제 계싼 값 sigmoid(z)는 결과가 나타날 확률을 의미한다.\n",
    "    \n",
    "  \n",
    "![image](https://user-images.githubusercontent.com/63198352/89435633-19fcb900-d780-11ea-9ce5-a183777c093d.png)  \n",
    "  \n",
    "  "
   ]
  },
  {
   "cell_type": "markdown",
   "metadata": {},
   "source": [
    "## classification 손실함수, W, b\n",
    "\n",
    "* 분류시스템 최종 출력 값 y는 sigmoid 함수에 의해 논리적으로 1 또는 0값을 가지기 때문에, 연속 값을 갖는 선형회귀 때와는 다른 손실함수가 필요하다. \n",
    "\n",
    "\n",
    "\n",
    "![image](https://user-images.githubusercontent.com/63198352/89436113-b8891a00-d780-11ea-8568-2c60bbc65b60.png)\n",
    "\n"
   ]
  },
  {
   "cell_type": "markdown",
   "metadata": {},
   "source": [
    "##  [참고] 손실함수 cross-entropy유도\n",
    "\n",
    "![image](https://user-images.githubusercontent.com/63198352/89436256-eff7c680-d780-11ea-8358-d741a5d71e7b.png)"
   ]
  },
  {
   "cell_type": "markdown",
   "metadata": {},
   "source": [
    "## classification 에서의 [W, b] 계산 프로세스\n",
    "\n",
    "![image](https://user-images.githubusercontent.com/63198352/89437660-d48dbb00-d782-11ea-8b1c-83914fc80f1a.png)"
   ]
  },
  {
   "cell_type": "markdown",
   "metadata": {},
   "source": [
    "# Logistic Regression - Classification (II)"
   ]
  },
  {
   "attachments": {},
   "cell_type": "markdown",
   "metadata": {},
   "source": [
    "## logistic regression implementation using python\n",
    "\n",
    "![image](https://user-images.githubusercontent.com/63198352/89549749-b045e300-d843-11ea-9e9c-7fcba0299f6a.png)\n",
    "\n",
    "\n",
    "## simple logistic regression\n",
    "\n",
    "![image](https://user-images.githubusercontent.com/63198352/89550131-34986600-d844-11ea-84c6-5be4caffca1e.png)\n",
    "\n",
    "![image](https://user-images.githubusercontent.com/63198352/89550279-67daf500-d844-11ea-888f-f469b3bb847b.png)\n",
    "\n",
    "![image](https://user-images.githubusercontent.com/63198352/89550353-7a552e80-d844-11ea-9e6c-2a37dd2fa585.png)\n",
    "\n",
    "## example results\n",
    "\n",
    "![image](https://user-images.githubusercontent.com/63198352/89550473-9d7fde00-d844-11ea-8a1a-f35236cb5cd7.png)\n",
    "\n",
    "\n",
    "## multi-variable logistic regression\n",
    "\n",
    "![image](https://user-images.githubusercontent.com/63198352/89550596-c43e1480-d844-11ea-86e2-4f444ff3be03.png)\n",
    "\n",
    "![image](https://user-images.githubusercontent.com/63198352/89550804-12ebae80-d845-11ea-99d3-7c497ce6c42b.png)\n",
    "\n",
    "![image](https://user-images.githubusercontent.com/63198352/89550856-2434bb00-d845-11ea-8319-58ed6d586df3.png)\n",
    "\n",
    "## example results\n",
    "\n",
    "![image](https://user-images.githubusercontent.com/63198352/89550880-2d258c80-d845-11ea-9096-ef2b0c5c3b2e.png)\n",
    "\n",
    "\n",
    "## 미래값 예측\n",
    "![image](https://user-images.githubusercontent.com/63198352/89551065-74ac1880-d845-11ea-812e-313c5e45ac28.png)"
   ]
  },
  {
   "cell_type": "code",
   "execution_count": null,
   "metadata": {},
   "outputs": [],
   "source": [
    "\n"
   ]
  }
 ],
 "metadata": {
  "kernelspec": {
   "display_name": "Python 3",
   "language": "python",
   "name": "python3"
  },
  "language_info": {
   "codemirror_mode": {
    "name": "ipython",
    "version": 3
   },
   "file_extension": ".py",
   "mimetype": "text/x-python",
   "name": "python",
   "nbconvert_exporter": "python",
   "pygments_lexer": "ipython3",
   "version": "3.8.3"
  }
 },
 "nbformat": 4,
 "nbformat_minor": 4
}
