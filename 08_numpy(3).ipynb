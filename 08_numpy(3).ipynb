{
 "cells": [
  {
   "cell_type": "markdown",
   "metadata": {},
   "source": [
    "###  라이브러리 numpy concatenate(...)\n",
    "\n",
    "* 행렬에 행(row) 또는 열(column)을 추가하기 위한 numpy.concatenate(...)\n",
    "    - 머신러닝의 회귀(regression)코드 구현시 가중치(weight)와 바이어스(bias)를 별도로 구분하지 않고 하나의 행렬로 취급하기 위한 프로그래밍 구현 기술\n",
    "    \n",
    "    ![image](https://user-images.githubusercontent.com/63198352/89120040-b6f3f380-d4ed-11ea-9a56-1b29b1bc6821.png)"
   ]
  },
  {
   "cell_type": "code",
   "execution_count": 2,
   "metadata": {},
   "outputs": [
    {
     "name": "stdout",
     "output_type": "stream",
     "text": [
      "(2, 3)\n",
      "(2, 1)\n",
      "[[10 20 30]\n",
      " [40 50 60]\n",
      " [70 80 90]]\n",
      "[[  10   20   30 1000]\n",
      " [  40   50   60 2000]]\n"
     ]
    }
   ],
   "source": [
    "#행렬에 열과 행 추가\n",
    "import numpy as np\n",
    "\n",
    "A = np.array([[10,20,30], [40,50,60]])\n",
    "\n",
    "print(A.shape)\n",
    "\n",
    "#A matrix에 행(row) 추가할 행렬. 1행 3열로 reshape\n",
    "# 행을 추가하기 때문에 우선 열을 3열로 만들어야 함\n",
    "row_add = np.array([70, 80, 90]).reshape(1,3) # vector 가 아니라 행렬 특성을 갖도록 reshape 해준 것이다.\n",
    "\n",
    "#A matrix에 열(column)을 추가할 행렬. 2행 1열로 생성\n",
    "# 열을 추가하기 때문에 우선 행을 2행으로 만들어야 함\n",
    "column_add = np.array([1000, 2000]).reshape(2,1)\n",
    "print(column_add.shape)\n",
    "\n",
    "#numpy.concatenate 에서 axis = 0 행(row) 기준 \n",
    "# A 행렬에 row_add 행렬 추가\n",
    "B = np.concatenate((A, row_add), axis = 0)\n",
    "\n",
    "print(B)\n",
    "# numpy.concatenate 에서 axis = 1열(column) 기준\n",
    "# B 행렬에 column_add 행렬 추가\n",
    "C = np.concatenate((A, column_add), axis = 1)\n",
    "\n",
    "print(C)"
   ]
  },
  {
   "cell_type": "markdown",
   "metadata": {},
   "source": [
    "###  라이브러리 numpy useful function(1)\n",
    "* seperator 로 구분된 파일에서 데이터를 읽기 위한 numpy.loadtxt(...)\n",
    "    - 다음과 같이 콤마(,)로 분리된 데이터 파일을 read 하기 위해서는 np.loadtxt(\"파일이름\", seperator=',')호출. \n",
    "    - 리턴값은 행렬이기 때문에 인덱싱 또는 슬라이싱을 이용하여 데이터를 분리할 필요 있음\n",
    "    - 머신러닝 코드에서 입력데이터와 정답데이터를 분리하는 프로그래밍 기법\n",
    "    \n",
    "    ![image](https://user-images.githubusercontent.com/63198352/89120136-cfb0d900-d4ee-11ea-9b82-9a6c54ff86e3.png)"
   ]
  },
  {
   "cell_type": "markdown",
   "metadata": {},
   "source": [
    "###  라이브러리 numpy useful function(2)\n",
    "\n",
    "![image](https://user-images.githubusercontent.com/63198352/89120097-6af57e80-d4ee-11ea-8cd8-56fb1b0f6a0c.png)"
   ]
  },
  {
   "cell_type": "markdown",
   "metadata": {},
   "source": [
    "###  라이브러리 numpy useful function(3)\n",
    "\n",
    "![image](https://user-images.githubusercontent.com/63198352/89120114-9ed0a400-d4ee-11ea-8f7e-71be8dc61e4b.png)"
   ]
  },
  {
   "cell_type": "markdown",
   "metadata": {},
   "source": [
    "### 라이브러리 matplotlib, scatter plot\n",
    "\n",
    "\n",
    "![image](https://user-images.githubusercontent.com/63198352/89120210-7006fd80-d4ef-11ea-83ef-36ff1b71e91c.png) "
   ]
  },
  {
   "cell_type": "code",
   "execution_count": 4,
   "metadata": {},
   "outputs": [
    {
     "data": {
      "image/png": "[encoded data removed]",
      "text/plain": [
       "<Figure size 432x288 with 1 Axes>"
      ]
     },
     "metadata": {
      "needs_background": "light"
     },
     "output_type": "display_data"
    }
   ],
   "source": [
    "import matplotlib.pyplot as plt\n",
    "import numpy as np\n",
    "\n",
    "%matplotlib inline\n",
    "\n",
    "x_data = np.random.rand(100)\n",
    "y_data = np.random.rand(100)\n",
    "\n",
    "plt.title('scatter plot')\n",
    "plt.grid()\n",
    "plt.scatter(x_data, y_data, color = 'b', marker= 'o')\n",
    "plt.show()\n"
   ]
  },
  {
   "cell_type": "code",
   "execution_count": null,
   "metadata": {},
   "outputs": [],
   "source": []
  }
 ],
 "metadata": {
  "kernelspec": {
   "display_name": "Python 3",
   "language": "python",
   "name": "python3"
  },
  "language_info": {
   "codemirror_mode": {
    "name": "ipython",
    "version": 3
   },
   "file_extension": ".py",
   "mimetype": "text/x-python",
   "name": "python",
   "nbconvert_exporter": "python",
   "pygments_lexer": "ipython3",
   "version": "3.8.3"
  }
 },
 "nbformat": 4,
 "nbformat_minor": 4
}
