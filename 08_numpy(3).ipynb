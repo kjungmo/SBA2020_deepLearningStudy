{
 "cells": [
  {
   "cell_type": "markdown",
   "metadata": {},
   "source": [
    "###  라이브러리 numpy concatenate(...)\n",
    "\n",
    "* 행렬에 행(row) 또는 열(column)을 추가하기 위한 numpy.concatenate(...)\n",
    "    - 머신러닝의 회귀(regression)코드 구현시 가중치(weight)와 바이어스(bias)를 별도로 구분하지 않고 하나의 행렬로 취급하기 위한 프로그래밍 구현 기술"
   ]
  },
  {
   "cell_type": "code",
   "execution_count": 1,
   "metadata": {},
   "outputs": [
    {
     "name": "stdout",
     "output_type": "stream",
     "text": [
      "(2, 3)\n",
      "(2, 1)\n",
      "[[10 20 30]\n",
      " [40 50 60]\n",
      " [70 80 90]]\n",
      "[[  10   20   30 1000]\n",
      " [  40   50   60 2000]]\n"
     ]
    }
   ],
   "source": [
    "#행렬에 열과 행 추가\n",
    "import numpy as np\n",
    "\n",
    "A = np.array([[10,20,30], [40,50,60]])\n",
    "\n",
    "print(A.shape)\n",
    "\n",
    "#A matrix에 행(row) 추가할 행렬. 1행 3열로 reshape\n",
    "# 행을 추가하기 때문에 우선 열을 3열로 만들어야 함\n",
    "row_add = np.array([70, 80, 90]).reshape(1,3) # vector 가 아니라 행렬 특성을 갖도록 reshape 해준 것이다.\n",
    "\n",
    "#A matrix에 열(column)을 추가할 행렬. 2행 1열로 생성\n",
    "# 열을 추가하기 때문에 우선 행을 2행으로 만들어야 함\n",
    "column_add = np.array([1000, 2000]).reshape(2,1)\n",
    "print(column_add.shape)\n",
    "\n",
    "#numpy.concatenate 에서 axis = 0 행(row) 기준 \n",
    "# A 행렬에 row_add 행렬 추가\n",
    "B = np.concatenate((A, row_add), axis = 0)\n",
    "\n",
    "print(B)\n",
    "# numpy.concatenate 에서 axis = 1열(column) 기준\n",
    "# B 행렬에 column_add 행렬 추가\n",
    "C = np.concatenate((A, column_add), axis = 1)\n",
    "\n",
    "print(C)"
   ]
  },
  {
   "cell_type": "code",
   "execution_count": null,
   "metadata": {},
   "outputs": [],
   "source": []
  }
 ],
 "metadata": {
  "kernelspec": {
   "display_name": "Python 3",
   "language": "python",
   "name": "python3"
  },
  "language_info": {
   "codemirror_mode": {
    "name": "ipython",
    "version": 3
   },
   "file_extension": ".py",
   "mimetype": "text/x-python",
   "name": "python",
   "nbconvert_exporter": "python",
   "pygments_lexer": "ipython3",
   "version": "3.8.3"
  }
 },
 "nbformat": 4,
 "nbformat_minor": 4
}
