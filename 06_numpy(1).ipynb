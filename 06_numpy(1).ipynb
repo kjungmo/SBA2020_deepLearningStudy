{
 "cells": [
  {
   "cell_type": "code",
   "execution_count": 2,
   "metadata": {},
   "outputs": [
    {
     "name": "stdout",
     "output_type": "stream",
     "text": [
      "A == [1 2] , type == <class 'numpy.ndarray'>\n"
     ]
    }
   ],
   "source": [
    "import numpy\n",
    "A = numpy.array([1,2])\n",
    "\n",
    "print( 'A ==', A, \", type ==\", type(A))"
   ]
  },
  {
   "cell_type": "code",
   "execution_count": 3,
   "metadata": {},
   "outputs": [
    {
     "name": "stdout",
     "output_type": "stream",
     "text": [
      "A == [1 2] , type == <class 'numpy.ndarray'>\n"
     ]
    }
   ],
   "source": [
    "import numpy as np\n",
    "A = np.array([1,2])\n",
    "\n",
    "print( 'A ==', A, \", type ==\", type(A))"
   ]
  },
  {
   "cell_type": "code",
   "execution_count": 4,
   "metadata": {},
   "outputs": [
    {
     "name": "stdout",
     "output_type": "stream",
     "text": [
      "result == 2.718281828459045 , type == <class 'numpy.float64'>\n"
     ]
    }
   ],
   "source": [
    "from numpy import exp\n",
    "\n",
    "result = exp(1)\n",
    "\n",
    "print(\"result ==\", result, \", type ==\", type(result))"
   ]
  },
  {
   "cell_type": "code",
   "execution_count": 6,
   "metadata": {},
   "outputs": [
    {
     "name": "stdout",
     "output_type": "stream",
     "text": [
      "result == 4.663123641894311 , type == <class 'numpy.float64'>\n"
     ]
    }
   ],
   "source": [
    "from numpy import *\n",
    "result = exp(1) + log(1.7) + sqrt(2)\n",
    "print(\"result ==\", result, \", type ==\", type(result))"
   ]
  },
  {
   "cell_type": "code",
   "execution_count": null,
   "metadata": {},
   "outputs": [],
   "source": []
  }
 ],
 "metadata": {
  "kernelspec": {
   "display_name": "Python 3",
   "language": "python",
   "name": "python3"
  },
  "language_info": {
   "codemirror_mode": {
    "name": "ipython",
    "version": 3
   },
   "file_extension": ".py",
   "mimetype": "text/x-python",
   "name": "python",
   "nbconvert_exporter": "python",
   "pygments_lexer": "ipython3",
   "version": "3.8.3"
  }
 },
 "nbformat": 4,
 "nbformat_minor": 4
}
