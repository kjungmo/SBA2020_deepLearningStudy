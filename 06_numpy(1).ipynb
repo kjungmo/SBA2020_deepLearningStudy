{
 "cells": [
  {
   "cell_type": "code",
   "execution_count": 2,
   "metadata": {},
   "outputs": [
    {
     "name": "stdout",
     "output_type": "stream",
     "text": [
      "A == [1 2] , type == <class 'numpy.ndarray'>\n"
     ]
    }
   ],
   "source": [
    "import numpy\n",
    "A = numpy.array([1,2])\n",
    "\n",
    "print( 'A ==', A, \", type ==\", type(A))"
   ]
  },
  {
   "cell_type": "code",
   "execution_count": 3,
   "metadata": {},
   "outputs": [
    {
     "name": "stdout",
     "output_type": "stream",
     "text": [
      "A == [1 2] , type == <class 'numpy.ndarray'>\n"
     ]
    }
   ],
   "source": [
    "import numpy as np\n",
    "A = np.array([1,2])\n",
    "\n",
    "print( 'A ==', A, \", type ==\", type(A))"
   ]
  },
  {
   "cell_type": "code",
   "execution_count": 4,
   "metadata": {},
   "outputs": [
    {
     "name": "stdout",
     "output_type": "stream",
     "text": [
      "result == 2.718281828459045 , type == <class 'numpy.float64'>\n"
     ]
    }
   ],
   "source": [
    "from numpy import exp\n",
    "\n",
    "result = exp(1)\n",
    "\n",
    "print(\"result ==\", result, \", type ==\", type(result))"
   ]
  },
  {
   "cell_type": "code",
   "execution_count": 6,
   "metadata": {},
   "outputs": [
    {
     "name": "stdout",
     "output_type": "stream",
     "text": [
      "result == 4.663123641894311 , type == <class 'numpy.float64'>\n"
     ]
    }
   ],
   "source": [
    "from numpy import *\n",
    "result = exp(1) + log(1.7) + sqrt(2)\n",
    "print(\"result ==\", result, \", type ==\", type(result))"
   ]
  },
  {
   "cell_type": "markdown",
   "metadata": {},
   "source": [
    "### 라이브러리 numpy vector (1 차원 배열)\n",
    "\n",
    "* 벡터 생성\n",
    "    - vector 는 np.array([...])를 사용하여 생성함.(import numpy as np)\n",
    "    - 머신러닝 코드 구현 시, **연산을 위해서 vector, matrix 등의 형상(shape), 차원(dimension)을 확인하는 것이 필요함\n",
    "* 벡터 산술연산\n",
    "    - vector 간 산술연산 ( + - * /)은 벡터 각각의 원소에 대해서 행해짐\n",
    "    - 형상을 확인하기 위해 shape과 ndim을 사용할 수 있다\n",
    "    \n"
   ]
  },
  {
   "cell_type": "code",
   "execution_count": 13,
   "metadata": {},
   "outputs": [
    {
     "name": "stdout",
     "output_type": "stream",
     "text": [
      "A == [1 2 3] , B == [4 5 6]\n",
      "A.shape == (3,) B.shape == (3,)\n",
      "A,ndim == 1 B.ndim == 1\n",
      "A + B == [5 7 9]\n",
      "A - B == [-3 -3 -3]\n",
      "A * B == [ 4 10 18]\n",
      "A / B == [0.25 0.4  0.5 ]\n"
     ]
    }
   ],
   "source": [
    "A  = np.array([1,2,3])\n",
    "B = np.array([4,5,6])\n",
    "\n",
    "# vector A, B 출력\n",
    "print(\"A ==\", A, \", B ==\", B)\n",
    "\n",
    "# vetcor A, B 형상 출력 => shape\n",
    "# 즉 원소의 개수가 출력된다. numpy에서는 행과 열을 별도로 구분하지 않는다.\n",
    "print(\"A.shape ==\", A.shape, \"B.shape ==\", B.shape)\n",
    "\n",
    "# vector A, B 차원 출력 => ndim\n",
    "print(\"A,ndim ==\", A.ndim, \"B.ndim ==\", B.ndim)\n",
    "\n",
    "#벡터 산술 연산\n",
    "\n",
    "print(\"A + B ==\", A+B)\n",
    "print(\"A - B ==\", A-B)\n",
    "print(\"A * B ==\", A*B)\n",
    "print(\"A / B ==\", A/B)\n",
    "\n"
   ]
  },
  {
   "cell_type": "markdown",
   "metadata": {},
   "source": [
    "* 행렬(matrix) 생성\n",
    "    - matrix 는 vector와 마찬가지로 np.array([[..],[...],..])를 사용하여 생성한다.(import numpy as np)\n",
    "    \n",
    "* 형 변환(reshape)  \n",
    "**!!! 행렬곱을 하기 위해서이다!!!** \n",
    "\n",
    "    - vector를 matrix로 변경하거나 matrix를 다른 형상의 matrix로 변경하기 위해서는 reshape()를 사용하여 행렬의shape을 변경하여야 함\n",
    "    "
   ]
  },
  {
   "cell_type": "code",
   "execution_count": 15,
   "metadata": {},
   "outputs": [
    {
     "name": "stdout",
     "output_type": "stream",
     "text": [
      "A.shape == (2, 3) B.shape == (2, 3)\n",
      "A.ndim == 2 B.ndim == 2\n",
      "C.shape == (3,)\n",
      "C.shape == (1, 3)\n"
     ]
    }
   ],
   "source": [
    "A = np.array([[1,2,3], [4,5,6]]) # 대괄호 2개라서 2행을 나타낸다. 3개의 원소는 3열을 나타냄\n",
    "B = np.array([[-1,-2,-3], [-4,-5,-6]])\n",
    "\n",
    "#matrix A, B형상 출력 => shape\n",
    "print(\"A.shape ==\", A.shape, \"B.shape ==\", B.shape)\n",
    "\n",
    "#matrix A, B 차원 출력 => ndim\n",
    "print(\"A.ndim ==\", A.ndim, \"B.ndim ==\", B.ndim)\n",
    "\n",
    "# vector 생성\n",
    "\n",
    "C = np.array([1,2,3])\n",
    "\n",
    "# vector C 형상 출력 => shape\n",
    "\n",
    "print(\"C.shape ==\", C.shape)\n",
    "\n",
    "# vector를 (1, 3) 행렬로 형 변환\n",
    "C = C.reshape(1, 3)\n",
    "\n",
    "print(\"C.shape ==\", C.shape)"
   ]
  },
  {
   "cell_type": "code",
   "execution_count": null,
   "metadata": {},
   "outputs": [],
   "source": []
  }
 ],
 "metadata": {
  "kernelspec": {
   "display_name": "Python 3",
   "language": "python",
   "name": "python3"
  },
  "language_info": {
   "codemirror_mode": {
    "name": "ipython",
    "version": 3
   },
   "file_extension": ".py",
   "mimetype": "text/x-python",
   "name": "python",
   "nbconvert_exporter": "python",
   "pygments_lexer": "ipython3",
   "version": "3.8.3"
  }
 },
 "nbformat": 4,
 "nbformat_minor": 4
}
