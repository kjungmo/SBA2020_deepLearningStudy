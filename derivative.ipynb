{
 "cells": [
  {
   "cell_type": "markdown",
   "metadata": {},
   "source": [
    "### 미분 derivative\n",
    "\n",
    "* 미분\n",
    "    - 순간 변화율\n",
    "    - 한 점에서 접점의 기울기\n",
    "\n",
    "* 미분을 왜 하는가? 미분으로 얻을 수 있는 인사이트?\n",
    "\n",
    "\n",
    "![image](https://user-images.githubusercontent.com/63198352/89120559-4ac7be80-d4f2-11ea-9ddb-b53e4b758689.png)\n",
    "\n",
    "\n"
   ]
  },
  {
   "cell_type": "markdown",
   "metadata": {},
   "source": [
    "![image](https://user-images.githubusercontent.com/63198352/89120762-c5450e00-d4f3-11ea-94b4-583352192f4a.png)\n",
    "\n",
    "* 미분이 0 이라는 의미는 입력 x가 미세하게 변할 때 함수 변화는 0, 즉 함수는 어떤 변화도 없다는 것을 의미\n"
   ]
  },
  {
   "cell_type": "markdown",
   "metadata": {},
   "source": [
    " ![image](https://user-images.githubusercontent.com/63198352/89120896-cf1b4100-d4f4-11ea-8697-cbf4d63b38e6.png)\n",
    "\n",
    "* 편미분은 입력변수가 하나 이상인 다변수 함수에서, 미분하고자 하는 변수 하나를 제외한 나머지 변수들은 상수로 취급하고, 해당 변수를 미분하는 것."
   ]
  },
  {
   "cell_type": "markdown",
   "metadata": {},
   "source": [
    "### 연쇄법칙 - chain rule\n",
    "* 합성함수란 여러 함수로 구성된 함수로서, 이러한 합성함수를 미분하려면 '합성함수를 구성하는 각 함수의 미분의 곱'으로 나타내는 chain rule(연쇄법칙) 이용\n",
    "\n",
    "* 편미분과 chain rule은 머신러닝에서 가중치를 업데이트 하고 오차역전파에서 중요하게 쓰인다\n",
    "![image](https://user-images.githubusercontent.com/63198352/89121680-d2fe9180-d4fb-11ea-89af-30bd50918c64.png)\n"
   ]
  },
  {
   "cell_type": "code",
   "execution_count": null,
   "metadata": {},
   "outputs": [],
   "source": []
  }
 ],
 "metadata": {
  "kernelspec": {
   "display_name": "Python 3",
   "language": "python",
   "name": "python3"
  },
  "language_info": {
   "codemirror_mode": {
    "name": "ipython",
    "version": 3
   },
   "file_extension": ".py",
   "mimetype": "text/x-python",
   "name": "python",
   "nbconvert_exporter": "python",
   "pygments_lexer": "ipython3",
   "version": "3.8.3"
  }
 },
 "nbformat": 4,
 "nbformat_minor": 4
}
