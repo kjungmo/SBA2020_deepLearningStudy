{
 "cells": [
  {
   "cell_type": "markdown",
   "metadata": {},
   "source": [
    "# [머신러닝 강의 18] 머신러닝 XOR 문제\n",
    "\n",
    "![image](https://user-images.githubusercontent.com/63198352/89711593-368a3280-d9c6-11ea-85f2-77ac92a1e380.png)\n",
    "\n",
    "![image](https://user-images.githubusercontent.com/63198352/89711599-4144c780-d9c6-11ea-9376-8bc405903ee6.png)\n",
    "\n",
    "![image](https://user-images.githubusercontent.com/63198352/89711635-6afdee80-d9c6-11ea-949e-99cb0c806e34.png)\n",
    "\n",
    "![image](https://user-images.githubusercontent.com/63198352/89711694-cdef8580-d9c6-11ea-9f90-e78b595674a8.png)\n",
    "\n",
    "![image](https://user-images.githubusercontent.com/63198352/89711753-32aae000-d9c7-11ea-8c4a-4bfff5d3e3a0.png)\n",
    "\n",
    "![image](https://user-images.githubusercontent.com/63198352/89711748-2c1c6880-d9c7-11ea-90eb-a1f5f72288a8.png)\n",
    "\n",
    "![image](https://user-images.githubusercontent.com/63198352/89711779-4fdfae80-d9c7-11ea-84c9-adeb7062080d.png)\n",
    "\n",
    "![image](https://user-images.githubusercontent.com/63198352/89711792-71409a80-d9c7-11ea-811a-744529a46c96.png)\n",
    "\n",
    "![image](https://user-images.githubusercontent.com/63198352/89711801-7f8eb680-d9c7-11ea-9b8c-89de60cba7ee.png)\n",
    "\n",
    "![image](https://user-images.githubusercontent.com/63198352/89711810-9208f000-d9c7-11ea-8744-ce56d85917df.png)\n",
    "\n",
    "![image](https://user-images.githubusercontent.com/63198352/89711835-b795f980-d9c7-11ea-8a95-9731efaad610.png)\n",
    "\n",
    "![image](https://user-images.githubusercontent.com/63198352/89711864-f7f57780-d9c7-11ea-9ba6-f0678b957096.png)\n"
   ]
  },
  {
   "cell_type": "code",
   "execution_count": null,
   "metadata": {},
   "outputs": [],
   "source": []
  }
 ],
 "metadata": {
  "kernelspec": {
   "display_name": "Python 3",
   "language": "python",
   "name": "python3"
  },
  "language_info": {
   "codemirror_mode": {
    "name": "ipython",
    "version": 3
   },
   "file_extension": ".py",
   "mimetype": "text/x-python",
   "name": "python",
   "nbconvert_exporter": "python",
   "pygments_lexer": "ipython3",
   "version": "3.8.3"
  }
 },
 "nbformat": 4,
 "nbformat_minor": 4
}
